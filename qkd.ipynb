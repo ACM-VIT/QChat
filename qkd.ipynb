{
 "cells": [
  {
   "cell_type": "code",
   "execution_count": null,
   "metadata": {},
   "outputs": [],
   "source": [
    "import os\n",
    "import qiskit\n",
    "import numpy as np"
   ]
  },
  {
   "cell_type": "code",
   "execution_count": null,
   "metadata": {},
   "outputs": [],
   "source": [
    "from qiskit import QuantumCircuit, execute, transpile, BasicAer, Aer, IBMQ\n",
    "from qiskit.circuit import QuantumRegister, ClassicalRegister, QuantumCircuit\n",
    "from qiskit.visualization import plot_histogram, plot_bloch_multivector\n",
    "from numpy.random import randint\n",
    "from qiskit.providers.aer import QasmSimulator"
   ]
  },
  {
   "cell_type": "code",
   "execution_count": null,
   "metadata": {},
   "outputs": [],
   "source": [
    "from quantuminspire.credentials import get_authentication,enable_account\n",
    "from coreapi.auth import BasicAuthentication\n",
    "from quantuminspire.qiskit import QI"
   ]
  },
  {
   "cell_type": "code",
   "execution_count": null,
   "metadata": {},
   "outputs": [],
   "source": [
    "#IBMQ.save_account('MY_TOKEN_NUMBER',overwrite=True)  #Link yout IBM Id to perform simulations on real IBM Quantum Computers\n",
    "#provider = IBMQ.load_account()"
   ]
  },
  {
   "cell_type": "code",
   "execution_count": null,
   "metadata": {},
   "outputs": [],
   "source": [
    "'''Create two strings of length 'n' that store information about the basis and state of Alice. \n",
    "The information about which basis Alice uses for encoding the state is very important for Bob to \n",
    "decrypt the message using the key.'''\n",
    "def generate_alice_strings(n):\n",
    "    alice_base=\"\"\n",
    "    alice_state=\"\"\n",
    "    #Edit your code here\n",
    "    return alice_base, alice_state"
   ]
  },
  {
   "cell_type": "code",
   "execution_count": null,
   "metadata": {},
   "outputs": [],
   "source": [
    "'''Generate a quantum circuit using the information stored in alice strings. Use the \n",
    "convention: '0' means encoding in (0|1) basis, '1' means encoding in (+|-) basis.'''\n",
    "def encode_alice_qubits(alice_state, alice_base):\n",
    "    alice_qubits = []\n",
    "     #Edit your code here\n",
    "    return alice_qubits"
   ]
  },
  {
   "cell_type": "code",
   "execution_count": null,
   "metadata": {},
   "outputs": [],
   "source": [
    "# Generate bob's bases\n",
    "def generate_bob_bases(n):\n",
    "    bob_base=''\n",
    "    #Edit your code here\n",
    "    return bob_base"
   ]
  },
  {
   "cell_type": "code",
   "execution_count": null,
   "metadata": {},
   "outputs": [],
   "source": [
    "# Measure alice's qubits to generate bob's state\n",
    "def measure(bob_base,alice_qubits):\n",
    "    bob_state=''\n",
    "    #Edit your code here\n",
    "    return bob_state"
   ]
  },
  {
   "cell_type": "code",
   "execution_count": null,
   "metadata": {},
   "outputs": [],
   "source": [
    "# Generate indices by comparing alice and bob's bases\n",
    "def indexing_key(bob_base,alice_base):\n",
    "    indices=[]\n",
    "    #Edit your code here\n",
    "    return indices"
   ]
  },
  {
   "cell_type": "code",
   "execution_count": null,
   "metadata": {},
   "outputs": [],
   "source": [
    "#Using basis indices and alice/bob states, generate keys\n",
    "def construct_key(user_state,indices):\n",
    "    key=''\n",
    "    #Edit your code here\n",
    "    return key"
   ]
  },
  {
   "cell_type": "code",
   "execution_count": null,
   "metadata": {},
   "outputs": [],
   "source": [
    "# Using generated QKD creat enecryption and decryption functions for end-to-end message encryption\n",
    "def encrypt_message(key):\n",
    "    encrypted_string = ''\n",
    "    #Edit your code here\n",
    "    return encrypted_string\n",
    "    \n",
    "def decrypt_message(key):\n",
    "    unencrypted_string= ''\n",
    "    #Edit your code here\n",
    "    return unencrypted_string"
   ]
  }
 ],
 "metadata": {
  "language_info": {
   "name": "python"
  },
  "orig_nbformat": 4
 },
 "nbformat": 4,
 "nbformat_minor": 2
}
